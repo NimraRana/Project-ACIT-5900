{
 "cells": [
  {
   "cell_type": "markdown",
   "metadata": {},
   "source": [
    "# Finding trends of publishers, their content is unique or similar to another publisher, if yes then which?"
   ]
  },
  {
   "cell_type": "code",
   "execution_count": 20,
   "metadata": {
    "id": "065GfxbESUqd"
   },
   "outputs": [],
   "source": [
    "#import libraries\n",
    "import numpy as np \n",
    "import pandas as pd \n",
    "import re\n",
    "import nltk \n",
    "import matplotlib.pyplot as plt\n",
    "%matplotlib inline\n",
    "import seaborn as sns"
   ]
  },
  {
   "cell_type": "code",
   "execution_count": 21,
   "metadata": {
    "id": "8siZXaDRSWCh"
   },
   "outputs": [
    {
     "name": "stdout",
     "output_type": "stream",
     "text": [
      "87638\n"
     ]
    },
    {
     "data": {
      "text/html": [
       "<div>\n",
       "<style scoped>\n",
       "    .dataframe tbody tr th:only-of-type {\n",
       "        vertical-align: middle;\n",
       "    }\n",
       "\n",
       "    .dataframe tbody tr th {\n",
       "        vertical-align: top;\n",
       "    }\n",
       "\n",
       "    .dataframe thead th {\n",
       "        text-align: right;\n",
       "    }\n",
       "</style>\n",
       "<table border=\"1\" class=\"dataframe\">\n",
       "  <thead>\n",
       "    <tr style=\"text-align: right;\">\n",
       "      <th></th>\n",
       "      <th>id</th>\n",
       "      <th>url</th>\n",
       "      <th>og_url</th>\n",
       "      <th>domain</th>\n",
       "      <th>title</th>\n",
       "      <th>description</th>\n",
       "      <th>content</th>\n",
       "      <th>entities</th>\n",
       "      <th>authors</th>\n",
       "      <th>paywall</th>\n",
       "      <th>...</th>\n",
       "      <th>cat_score</th>\n",
       "      <th>outbound_link_ids</th>\n",
       "      <th>inbound_link_ids</th>\n",
       "      <th>tagss</th>\n",
       "      <th>Nounss</th>\n",
       "      <th>title_clean</th>\n",
       "      <th>pub_day</th>\n",
       "      <th>pub_hour</th>\n",
       "      <th>Nounss_clean</th>\n",
       "      <th>cluster_id</th>\n",
       "    </tr>\n",
       "  </thead>\n",
       "  <tbody>\n",
       "    <tr>\n",
       "      <th>0</th>\n",
       "      <td>KQe1r321ZaJY</td>\n",
       "      <td>https://www.abcnyheter.no/nyheter/norge/2021/1...</td>\n",
       "      <td>https://www.abcnyheter.no/a/195798411/</td>\n",
       "      <td>www.abcnyheter.no</td>\n",
       "      <td>Færre vil møte klimakrisen med tiltak som i ko...</td>\n",
       "      <td>Andelen som vil ha like kraftige tiltak mot kl...</td>\n",
       "      <td>Samtidig som klimatoppmøtet i Glasgow starter,...</td>\n",
       "      <td>['Glasgow', 'Fokus', 'Norge', 'Klimatoppmøtet'...</td>\n",
       "      <td>NaN</td>\n",
       "      <td>NaN</td>\n",
       "      <td>...</td>\n",
       "      <td>0.963856</td>\n",
       "      <td>NaN</td>\n",
       "      <td>NaN</td>\n",
       "      <td>[]</td>\n",
       "      <td>['Færre', 'klimakrisen', 'tiltak', 'koronapand...</td>\n",
       "      <td>færr klimakris tiltak koronapandemi</td>\n",
       "      <td>2021-10-31</td>\n",
       "      <td>23</td>\n",
       "      <td>færr klimakris tiltak koronapandemi</td>\n",
       "      <td>304_1940</td>\n",
       "    </tr>\n",
       "    <tr>\n",
       "      <th>1</th>\n",
       "      <td>jnegLMrLkawZ</td>\n",
       "      <td>https://www.ao.no/oslo-fergenes-siste-dag-pa-f...</td>\n",
       "      <td>https://www.ao.no/5-128-204411</td>\n",
       "      <td>www.ao.no</td>\n",
       "      <td>(+) Oslo-Fergenes siste dag på fjorden: – Det ...</td>\n",
       "      <td>Siden 1917 har Oslo-Fergene fraktet turister o...</td>\n",
       "      <td>Øyene, Ferger | Oslo-Fergenes siste dag på fjo...</td>\n",
       "      <td>NaN</td>\n",
       "      <td>['Sevda Barazesh']</td>\n",
       "      <td>1.0</td>\n",
       "      <td>...</td>\n",
       "      <td>NaN</td>\n",
       "      <td>NaN</td>\n",
       "      <td>['LDdwm7PORa1Y']</td>\n",
       "      <td>[]</td>\n",
       "      <td>['Oslo-Fergenes', 'dag', 'fjorden']</td>\n",
       "      <td>oslo ferg dag fjord</td>\n",
       "      <td>2021-10-31</td>\n",
       "      <td>23</td>\n",
       "      <td>oslo ferg dag fjord</td>\n",
       "      <td>304_1097</td>\n",
       "    </tr>\n",
       "  </tbody>\n",
       "</table>\n",
       "<p>2 rows × 39 columns</p>\n",
       "</div>"
      ],
      "text/plain": [
       "             id                                                url  \\\n",
       "0  KQe1r321ZaJY  https://www.abcnyheter.no/nyheter/norge/2021/1...   \n",
       "1  jnegLMrLkawZ  https://www.ao.no/oslo-fergenes-siste-dag-pa-f...   \n",
       "\n",
       "                                   og_url             domain  \\\n",
       "0  https://www.abcnyheter.no/a/195798411/  www.abcnyheter.no   \n",
       "1          https://www.ao.no/5-128-204411          www.ao.no   \n",
       "\n",
       "                                               title  \\\n",
       "0  Færre vil møte klimakrisen med tiltak som i ko...   \n",
       "1  (+) Oslo-Fergenes siste dag på fjorden: – Det ...   \n",
       "\n",
       "                                         description  \\\n",
       "0  Andelen som vil ha like kraftige tiltak mot kl...   \n",
       "1  Siden 1917 har Oslo-Fergene fraktet turister o...   \n",
       "\n",
       "                                             content  \\\n",
       "0  Samtidig som klimatoppmøtet i Glasgow starter,...   \n",
       "1  Øyene, Ferger | Oslo-Fergenes siste dag på fjo...   \n",
       "\n",
       "                                            entities             authors  \\\n",
       "0  ['Glasgow', 'Fokus', 'Norge', 'Klimatoppmøtet'...                 NaN   \n",
       "1                                                NaN  ['Sevda Barazesh']   \n",
       "\n",
       "   paywall  ...  cat_score  outbound_link_ids  inbound_link_ids  tagss  \\\n",
       "0      NaN  ...   0.963856                NaN               NaN     []   \n",
       "1      1.0  ...        NaN                NaN  ['LDdwm7PORa1Y']     []   \n",
       "\n",
       "                                              Nounss  \\\n",
       "0  ['Færre', 'klimakrisen', 'tiltak', 'koronapand...   \n",
       "1                ['Oslo-Fergenes', 'dag', 'fjorden']   \n",
       "\n",
       "                           title_clean     pub_day pub_hour  \\\n",
       "0  færr klimakris tiltak koronapandemi  2021-10-31       23   \n",
       "1                  oslo ferg dag fjord  2021-10-31       23   \n",
       "\n",
       "                          Nounss_clean cluster_id  \n",
       "0  færr klimakris tiltak koronapandemi   304_1940  \n",
       "1                  oslo ferg dag fjord   304_1097  \n",
       "\n",
       "[2 rows x 39 columns]"
      ]
     },
     "execution_count": 21,
     "metadata": {},
     "output_type": "execute_result"
    }
   ],
   "source": [
    "#uploading dataset\n",
    "cluster_data = pd.read_csv('cop26_clust_noun.csv')\n",
    "print(len(cluster_data))\n",
    "cluster_data.head(2)"
   ]
  },
  {
   "cell_type": "markdown",
   "metadata": {},
   "source": [
    "### Sorting top ten domain according to publish date"
   ]
  },
  {
   "cell_type": "code",
   "execution_count": 22,
   "metadata": {
    "id": "fJbh5EHZSXhK"
   },
   "outputs": [],
   "source": [
    "#making list of top 10 domains\n",
    "list_of_values = [\"www.nrk.no\",\n",
    "        \"www.nettavisen.no\",\n",
    "        \"www.adressa.no\",\n",
    "        \"www.tv2.no\",\n",
    "        \"www.smp.no\",\n",
    "        \"www.ht.no\",\n",
    "        \"www.itromso.no\",\n",
    "        \"www.rbnett.no\",\n",
    "        \"www.folkebladet.no\",\n",
    "        \"www.framtidinord.no\"]               "
   ]
  },
  {
   "cell_type": "code",
   "execution_count": 23,
   "metadata": {
    "id": "s8eT2K5pSZtQ"
   },
   "outputs": [],
   "source": [
    "top_10_websites = cluster_data[cluster_data['domain'].isin(list_of_values)]"
   ]
  },
  {
   "cell_type": "code",
   "execution_count": 24,
   "metadata": {
    "id": "aYqi9O8ESchg"
   },
   "outputs": [
    {
     "data": {
      "text/plain": [
       "Index(['domain', 'cluster_id', 'pub_day'], dtype='object')"
      ]
     },
     "execution_count": 24,
     "metadata": {},
     "output_type": "execute_result"
    }
   ],
   "source": [
    "top_10_websites = top_10_websites[['domain','cluster_id','pub_day']]\n",
    "top_10_websites[\"pub_day\"] = pd.to_datetime(top_10_websites[\"pub_day\"])\n",
    "\n",
    "top_10_websites = top_10_websites.sort_values(by=\"pub_day\")\n",
    "top_10_websites.columns"
   ]
  },
  {
   "cell_type": "code",
   "execution_count": 25,
   "metadata": {
    "id": "yBNB6oudSeWa"
   },
   "outputs": [
    {
     "data": {
      "text/html": [
       "<div>\n",
       "<style scoped>\n",
       "    .dataframe tbody tr th:only-of-type {\n",
       "        vertical-align: middle;\n",
       "    }\n",
       "\n",
       "    .dataframe tbody tr th {\n",
       "        vertical-align: top;\n",
       "    }\n",
       "\n",
       "    .dataframe thead th {\n",
       "        text-align: right;\n",
       "    }\n",
       "</style>\n",
       "<table border=\"1\" class=\"dataframe\">\n",
       "  <thead>\n",
       "    <tr style=\"text-align: right;\">\n",
       "      <th></th>\n",
       "      <th>domain</th>\n",
       "      <th>cluster_id</th>\n",
       "      <th>pub_day</th>\n",
       "    </tr>\n",
       "  </thead>\n",
       "  <tbody>\n",
       "    <tr>\n",
       "      <th>5</th>\n",
       "      <td>www.nrk.no</td>\n",
       "      <td>304_475</td>\n",
       "      <td>2021-10-31</td>\n",
       "    </tr>\n",
       "    <tr>\n",
       "      <th>2884</th>\n",
       "      <td>www.nettavisen.no</td>\n",
       "      <td>304_38</td>\n",
       "      <td>2021-10-31</td>\n",
       "    </tr>\n",
       "    <tr>\n",
       "      <th>2885</th>\n",
       "      <td>www.adressa.no</td>\n",
       "      <td>304_200</td>\n",
       "      <td>2021-10-31</td>\n",
       "    </tr>\n",
       "    <tr>\n",
       "      <th>2886</th>\n",
       "      <td>www.framtidinord.no</td>\n",
       "      <td>304_200</td>\n",
       "      <td>2021-10-31</td>\n",
       "    </tr>\n",
       "    <tr>\n",
       "      <th>2887</th>\n",
       "      <td>www.folkebladet.no</td>\n",
       "      <td>304_200</td>\n",
       "      <td>2021-10-31</td>\n",
       "    </tr>\n",
       "  </tbody>\n",
       "</table>\n",
       "</div>"
      ],
      "text/plain": [
       "                   domain cluster_id    pub_day\n",
       "5              www.nrk.no    304_475 2021-10-31\n",
       "2884    www.nettavisen.no     304_38 2021-10-31\n",
       "2885       www.adressa.no    304_200 2021-10-31\n",
       "2886  www.framtidinord.no    304_200 2021-10-31\n",
       "2887   www.folkebladet.no    304_200 2021-10-31"
      ]
     },
     "execution_count": 25,
     "metadata": {},
     "output_type": "execute_result"
    }
   ],
   "source": [
    "top_10_websites.head()"
   ]
  },
  {
   "cell_type": "code",
   "execution_count": 26,
   "metadata": {
    "id": "qJILHp-xSgJa"
   },
   "outputs": [],
   "source": [
    "def get_domain(x):\n",
    "  if x.startswith('www.'):\n",
    "    return x[4:-3]\n",
    "  else:\n",
    "    return x[:-3]"
   ]
  },
  {
   "cell_type": "code",
   "execution_count": 27,
   "metadata": {
    "id": "n2fy6S4PSixA"
   },
   "outputs": [
    {
     "data": {
      "text/plain": [
       "5                nrk\n",
       "2884      nettavisen\n",
       "2885         adressa\n",
       "2886    framtidinord\n",
       "2887     folkebladet\n",
       "Name: domain, dtype: object"
      ]
     },
     "execution_count": 27,
     "metadata": {},
     "output_type": "execute_result"
    }
   ],
   "source": [
    "top_10_websites['domain'] = top_10_websites['domain'].apply(get_domain)\n",
    "top_10_websites['domain'].head()"
   ]
  },
  {
   "cell_type": "markdown",
   "metadata": {},
   "source": [
    "### Assigning labels to each article whether unique or not"
   ]
  },
  {
   "cell_type": "code",
   "execution_count": 28,
   "metadata": {
    "id": "6L7-u8V5SkjI",
    "scrolled": false
   },
   "outputs": [
    {
     "name": "stderr",
     "output_type": "stream",
     "text": [
      "/Users/nimrarana/opt/anaconda3/lib/python3.8/site-packages/pandas/core/indexing.py:670: SettingWithCopyWarning: \n",
      "A value is trying to be set on a copy of a slice from a DataFrame\n",
      "\n",
      "See the caveats in the documentation: https://pandas.pydata.org/pandas-docs/stable/user_guide/indexing.html#returning-a-view-versus-a-copy\n",
      "  iloc._setitem_with_indexer(indexer, value)\n"
     ]
    }
   ],
   "source": [
    "#nested loop to compare each article with others\n",
    "top_10_websites['Status_of_article'] ='unique' \n",
    "for i in range(len(top_10_websites)):\n",
    "  for j in range(i+1,len(top_10_websites)):\n",
    "    if top_10_websites['cluster_id'].iloc[i]==top_10_websites['cluster_id'].iloc[j] and top_10_websites['domain'].iloc[i]!=top_10_websites['domain'].iloc[j]  :\n",
    "      top_10_websites['Status_of_article'].iloc[j] = \"Similar from\"+\" \"+ str(top_10_websites['domain'].iloc[i])\n"
   ]
  },
  {
   "cell_type": "code",
   "execution_count": 29,
   "metadata": {
    "id": "kh8yWzl7SmmI"
   },
   "outputs": [
    {
     "data": {
      "text/html": [
       "<div>\n",
       "<style scoped>\n",
       "    .dataframe tbody tr th:only-of-type {\n",
       "        vertical-align: middle;\n",
       "    }\n",
       "\n",
       "    .dataframe tbody tr th {\n",
       "        vertical-align: top;\n",
       "    }\n",
       "\n",
       "    .dataframe thead th {\n",
       "        text-align: right;\n",
       "    }\n",
       "</style>\n",
       "<table border=\"1\" class=\"dataframe\">\n",
       "  <thead>\n",
       "    <tr style=\"text-align: right;\">\n",
       "      <th></th>\n",
       "      <th>domain</th>\n",
       "      <th>cluster_id</th>\n",
       "      <th>pub_day</th>\n",
       "      <th>Status_of_article</th>\n",
       "    </tr>\n",
       "  </thead>\n",
       "  <tbody>\n",
       "    <tr>\n",
       "      <th>84335</th>\n",
       "      <td>folkebladet</td>\n",
       "      <td>317_338</td>\n",
       "      <td>2021-11-13</td>\n",
       "      <td>Similar from smp</td>\n",
       "    </tr>\n",
       "    <tr>\n",
       "      <th>84333</th>\n",
       "      <td>framtidinord</td>\n",
       "      <td>317_338</td>\n",
       "      <td>2021-11-13</td>\n",
       "      <td>Similar from folkebladet</td>\n",
       "    </tr>\n",
       "    <tr>\n",
       "      <th>84331</th>\n",
       "      <td>itromso</td>\n",
       "      <td>317_338</td>\n",
       "      <td>2021-11-13</td>\n",
       "      <td>Similar from framtidinord</td>\n",
       "    </tr>\n",
       "    <tr>\n",
       "      <th>84330</th>\n",
       "      <td>ht</td>\n",
       "      <td>317_338</td>\n",
       "      <td>2021-11-13</td>\n",
       "      <td>Similar from itromso</td>\n",
       "    </tr>\n",
       "    <tr>\n",
       "      <th>84329</th>\n",
       "      <td>adressa</td>\n",
       "      <td>317_338</td>\n",
       "      <td>2021-11-13</td>\n",
       "      <td>Similar from ht</td>\n",
       "    </tr>\n",
       "    <tr>\n",
       "      <th>84328</th>\n",
       "      <td>nrk</td>\n",
       "      <td>317_1725</td>\n",
       "      <td>2021-11-13</td>\n",
       "      <td>unique</td>\n",
       "    </tr>\n",
       "    <tr>\n",
       "      <th>84313</th>\n",
       "      <td>adressa</td>\n",
       "      <td>317_574</td>\n",
       "      <td>2021-11-13</td>\n",
       "      <td>unique</td>\n",
       "    </tr>\n",
       "    <tr>\n",
       "      <th>84310</th>\n",
       "      <td>folkebladet</td>\n",
       "      <td>317_818</td>\n",
       "      <td>2021-11-13</td>\n",
       "      <td>Similar from rbnett</td>\n",
       "    </tr>\n",
       "    <tr>\n",
       "      <th>84334</th>\n",
       "      <td>tv2</td>\n",
       "      <td>317_44</td>\n",
       "      <td>2021-11-13</td>\n",
       "      <td>unique</td>\n",
       "    </tr>\n",
       "    <tr>\n",
       "      <th>87618</th>\n",
       "      <td>folkebladet</td>\n",
       "      <td>317_109</td>\n",
       "      <td>2021-11-13</td>\n",
       "      <td>unique</td>\n",
       "    </tr>\n",
       "  </tbody>\n",
       "</table>\n",
       "</div>"
      ],
      "text/plain": [
       "             domain cluster_id    pub_day          Status_of_article\n",
       "84335   folkebladet    317_338 2021-11-13           Similar from smp\n",
       "84333  framtidinord    317_338 2021-11-13   Similar from folkebladet\n",
       "84331       itromso    317_338 2021-11-13  Similar from framtidinord\n",
       "84330            ht    317_338 2021-11-13       Similar from itromso\n",
       "84329       adressa    317_338 2021-11-13            Similar from ht\n",
       "84328           nrk   317_1725 2021-11-13                     unique\n",
       "84313       adressa    317_574 2021-11-13                     unique\n",
       "84310   folkebladet    317_818 2021-11-13        Similar from rbnett\n",
       "84334           tv2     317_44 2021-11-13                     unique\n",
       "87618   folkebladet    317_109 2021-11-13                     unique"
      ]
     },
     "execution_count": 29,
     "metadata": {},
     "output_type": "execute_result"
    }
   ],
   "source": [
    "top_10_websites.tail(10)"
   ]
  },
  {
   "cell_type": "code",
   "execution_count": 34,
   "metadata": {
    "id": "VMgzyJfDSof_",
    "scrolled": true
   },
   "outputs": [
    {
     "data": {
      "text/plain": [
       "Status_of_article\n",
       "Similar from adressa         1493\n",
       "Similar from folkebladet     1336\n",
       "Similar from framtidinord    1321\n",
       "Similar from ht              1336\n",
       "Similar from itromso         1336\n",
       "Similar from nettavisen      1046\n",
       "Similar from nrk              848\n",
       "Similar from rbnett          1314\n",
       "Similar from smp             1350\n",
       "Similar from tv2              423\n",
       "unique                       9934\n",
       "dtype: int64"
      ]
     },
     "execution_count": 34,
     "metadata": {},
     "output_type": "execute_result"
    }
   ],
   "source": [
    "top_10_websites.groupby(\"Status_of_article\").size()"
   ]
  },
  {
   "cell_type": "markdown",
   "metadata": {},
   "source": [
    "### Visualizing frequency of articles whether unique or not "
   ]
  },
  {
   "cell_type": "code",
   "execution_count": 31,
   "metadata": {
    "id": "CdOdntujSqvn"
   },
   "outputs": [],
   "source": [
    "def assign_duplicates(content):\n",
    "  if content=='unique':\n",
    "    return \"unique\"\n",
    "  else:\n",
    "    return \"Similar\""
   ]
  },
  {
   "cell_type": "code",
   "execution_count": 33,
   "metadata": {
    "id": "GQ1qAJqRSrSc"
   },
   "outputs": [],
   "source": [
    "top_10_websites['is_unique'] = top_10_websites['Status_of_article'].apply(assign_duplicates)"
   ]
  },
  {
   "cell_type": "code",
   "execution_count": 41,
   "metadata": {
    "id": "G5037s42TVZk",
    "scrolled": false
   },
   "outputs": [
    {
     "data": {
      "text/plain": [
       "<AxesSubplot:title={'center':'Content of top 10 publisher, uniquie or similar from other publishers'}, xlabel='count', ylabel='domain'>"
      ]
     },
     "execution_count": 41,
     "metadata": {},
     "output_type": "execute_result"
    },
    {
     "data": {
      "image/png": "[encoded data removed]",
      "text/plain": [
       "<Figure size 1080x720 with 1 Axes>"
      ]
     },
     "metadata": {
      "needs_background": "light"
     },
     "output_type": "display_data"
    }
   ],
   "source": [
    "fig_dims = (15, 10)\n",
    "fig, ax = plt.subplots(figsize=fig_dims)\n",
    "plt.title('Content of top 10 publisher, uniquie or similar from other publishers')\n",
    "sns.countplot(y='domain', hue = \"is_unique\", data = top_10_websites)"
   ]
  },
  {
   "cell_type": "markdown",
   "metadata": {},
   "source": [
    "### Visualizing articles of top 10 publisher, uniquie or similar from other publishers, if yes then which"
   ]
  },
  {
   "cell_type": "code",
   "execution_count": 36,
   "metadata": {
    "id": "yqhkAVemSw2G",
    "scrolled": false
   },
   "outputs": [
    {
     "data": {
      "text/plain": [
       "<AxesSubplot:title={'center':'Content of top 10 publisher, uniquie or similar from other publishers, if yes then which'}, xlabel='count', ylabel='domain'>"
      ]
     },
     "execution_count": 36,
     "metadata": {},
     "output_type": "execute_result"
    },
    {
     "data": {
      "image/png": "[encoded data removed]",
      "text/plain": [
       "<Figure size 1080x720 with 1 Axes>"
      ]
     },
     "metadata": {
      "needs_background": "light"
     },
     "output_type": "display_data"
    }
   ],
   "source": [
    " fig_dims = (15, 10)\n",
    "fig, ax = plt.subplots(figsize=fig_dims)\n",
    "plt.title('Content of top 10 publisher, uniquie or similar from other publishers, if yes then which')\n",
    "sns.countplot(y='domain', hue = \"Status_of_article\", data = top_10_websites,palette = sns.color_palette(\"Paired\"))"
   ]
  },
  {
   "cell_type": "code",
   "execution_count": null,
   "metadata": {},
   "outputs": [],
   "source": []
  }
 ],
 "metadata": {
  "colab": {
   "authorship_tag": "ABX9TyODPc85CnGoMJIVB6unEgcY",
   "name": "Updated.ipynb",
   "provenance": []
  },
  "kernelspec": {
   "display_name": "Python 3",
   "language": "python",
   "name": "python3"
  },
  "language_info": {
   "codemirror_mode": {
    "name": "ipython",
    "version": 3
   },
   "file_extension": ".py",
   "mimetype": "text/x-python",
   "name": "python",
   "nbconvert_exporter": "python",
   "pygments_lexer": "ipython3",
   "version": "3.8.5"
  }
 },
 "nbformat": 4,
 "nbformat_minor": 1
}
