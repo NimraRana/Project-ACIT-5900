{
 "cells": [
  {
   "cell_type": "markdown",
   "metadata": {},
   "source": [
    "# Step 5: Evaluation of the model"
   ]
  },
  {
   "cell_type": "code",
   "execution_count": 1,
   "metadata": {
    "id": "FG0FGzV1uViv"
   },
   "outputs": [],
   "source": [
    "import pandas as pd\n",
    "import numpy as np\n",
    "import seaborn as sns\n",
    "import matplotlib.pyplot as plt\n",
    "import nltk\n",
    "\n",
    "from nltk.tokenize import RegexpTokenizer\n",
    "from nltk.stem.snowball import SnowballStemmer\n",
    "from nltk.corpus import stopwords\n",
    "from nltk.util import ngrams\n",
    "\n",
    "import string\n",
    "# may also be worth to try stanza https://stanfordnlp.github.io/stanza/index.html\n",
    "\n",
    "from sklearn.feature_extraction.text import CountVectorizer, TfidfTransformer\n",
    "from sklearn.metrics.pairwise import cosine_similarity\n",
    "\n",
    "# for word cloud\n",
    "import csv\n",
    "from wordcloud import WordCloud\n"
   ]
  },
  {
   "cell_type": "code",
   "execution_count": 2,
   "metadata": {
    "id": "0bEzQ5ueuVoN"
   },
   "outputs": [],
   "source": [
    "# load data\n",
    "df = pd.read_csv('finalnouns.csv', index_col=0)"
   ]
  },
  {
   "cell_type": "code",
   "execution_count": 5,
   "metadata": {
    "id": "dv6vtuR9uVoV"
   },
   "outputs": [],
   "source": [
    "#initialize tokenizer and stemmer\n",
    "tokenizer = RegexpTokenizer('[^\\W\\d_]+') #https://stackoverflow.com/questions/6067592/regular-expression-to-match-only-alphabetic-characters\n",
    "stemmer = SnowballStemmer(\"norwegian\", ignore_stopwords=True)\n",
    "\n",
    "def clean(doc):   \n",
    "    doc_ = doc\n",
    "\n",
    "    # make all lower case\n",
    "    doc_ = doc_.lower()\n",
    "    \n",
    "    # tokenize text. regex includes alphabetic characters, including letters with accents. \n",
    "    # excludes punctuation and numbers.\n",
    "    words = tokenizer.tokenize(doc_)\n",
    "    \n",
    "    \n",
    "    # do not stem stopwords\n",
    "    stems = list(map(stemmer.stem, words))\n",
    "\n",
    "    doc_ = \" \".join(stems)\n",
    "    \n",
    "    # count number of words \n",
    "    n_words = len(words)\n",
    "\n",
    "    return doc_#, title_words, n_words"
   ]
  },
  {
   "cell_type": "code",
   "execution_count": 6,
   "metadata": {
    "colab": {
     "base_uri": "https://localhost:8080/"
    },
    "id": "q7tykRw8uVoZ",
    "outputId": "a00b04ec-c2a6-4ab8-c752-9e11b1cd1959"
   },
   "outputs": [
    {
     "name": "stderr",
     "output_type": "stream",
     "text": [
      "<ipython-input-6-7afe24557220>:2: UserWarning: Pandas doesn't allow columns to be created via a new attribute name - see https://pandas.pydata.org/pandas-docs/stable/indexing.html#attribute-access\n",
      "  df.nouns_clean = df.Nounss.apply(clean)\n"
     ]
    }
   ],
   "source": [
    "# clean titles\n",
    "df.nouns_clean = df.Nounss.apply(clean)\n",
    "\n",
    "# convert titles to list of strings\n",
    "nouns_words = df.nouns_clean.apply(lambda x: x.split(' '))"
   ]
  },
  {
   "cell_type": "code",
   "execution_count": 9,
   "metadata": {
    "id": "O06PmOeuuVoc"
   },
   "outputs": [],
   "source": [
    "# write norwegian stopwords to file\n",
    "file2write=open(\"/Users/nimrarana/Downloads/norwegian_stopwords.txt\",'w')\n",
    "file2write.write('\\n'.join(stopwords.words('norwegian')))\n",
    "file2write.close()\n",
    "\n",
    "# read stopwords from file\n",
    "sw = [line.strip(\"\\n\") for line in open(\"/Users/nimrarana/Downloads/norwegian_stopwords.txt\", \"r\")]"
   ]
  },
  {
   "cell_type": "code",
   "execution_count": 10,
   "metadata": {
    "colab": {
     "base_uri": "https://localhost:8080/"
    },
    "id": "e5kz0wVluVod",
    "outputId": "e1130216-cfc9-4467-bcb7-9770b0ccb4ca"
   },
   "outputs": [
    {
     "name": "stdout",
     "output_type": "stream",
     "text": [
      "Original title : ['Sandra', 'Lyng']\n",
      "['Sandra', 'Lyng']\n",
      "['sandr', 'lyng']\n",
      "Original title : ['Oslo-Fergenes', 'dag', 'fjorden']\n",
      "['Oslo', 'Fergenes', 'dag', 'fjorden']\n",
      "['oslo', 'ferg', 'dag', 'fjord']\n"
     ]
    }
   ],
   "source": [
    "# show example of how tokenizer works\n",
    "totoke = df.Nounss.values[3]\n",
    "print('Original title : ' + totoke)\n",
    "print(tokenizer.tokenize(totoke))\n",
    "print(list(map(stemmer.stem, tokenizer.tokenize(totoke))))\n",
    "\n",
    "totoke = df.Nounss.values[1]\n",
    "print('Original title : ' + totoke)\n",
    "print(tokenizer.tokenize(totoke))\n",
    "print(list(map(stemmer.stem, tokenizer.tokenize(totoke))))"
   ]
  },
  {
   "cell_type": "code",
   "execution_count": 11,
   "metadata": {
    "colab": {
     "base_uri": "https://localhost:8080/"
    },
    "id": "MPtrhxpNuVog",
    "outputId": "c7b75314-48b3-4003-ec35-e12db6f271a3"
   },
   "outputs": [
    {
     "name": "stdout",
     "output_type": "stream",
     "text": [
      "[('oslo', 'ferg'), ('ferg', 'dag'), ('dag', 'fjord')]\n"
     ]
    }
   ],
   "source": [
    "# create n-grams\n",
    "print(list(ngrams(nouns_words[1], 2)))"
   ]
  },
  {
   "cell_type": "code",
   "execution_count": 12,
   "metadata": {
    "colab": {
     "base_uri": "https://localhost:8080/"
    },
    "id": "bkmhEKJmuVoh",
    "outputId": "d598dddc-d635-44df-dbee-e1cb0dcfcbd0"
   },
   "outputs": [
    {
     "name": "stdout",
     "output_type": "stream",
     "text": [
      "Small sample of the vocabulary: ['færr', 'klimakris', 'tiltak', 'koronapandemi', 'oslo', 'ferg', 'dag', 'fjord', 'raid', 'bankrøver', 'brasil', 'sandr', 'lyng', 'aborttilgang', 'tex', 'lov', 'høyesterett', 'brannfolk', 'øving', 'vilj']\n",
      "\n",
      "Number of distinct words: 37317\n",
      "Word count vectorization has 87638 entries and 37317 words\n"
     ]
    }
   ],
   "source": [
    "# initialize vectorizer to count words, ignoring norwegian stopwords\n",
    "vectorizer = CountVectorizer(stop_words=sw)\n",
    "\n",
    "# fit vectorizer to corpus of nouns\n",
    "vectorizer.fit(df.nouns_clean)\n",
    "\n",
    "# Looking at a small sample of the vocabulary:\n",
    "vocabulary = list(vectorizer.vocabulary_.keys())\n",
    "print(\"Small sample of the vocabulary:\", vocabulary[0:20])\n",
    "\n",
    "# Number of words in the vocabulary\n",
    "print(\"\\nNumber of distinct words:\", len(vocabulary))\n",
    "\n",
    "# convert data to word counts\n",
    "word_count_matrix = vectorizer.transform(df.nouns_clean.values)\n",
    "\n",
    "print('Word count vectorization has %d entries and %d words' % word_count_matrix.shape)"
   ]
  },
  {
   "cell_type": "code",
   "execution_count": 13,
   "metadata": {
    "colab": {
     "base_uri": "https://localhost:8080/"
    },
    "id": "gGhoBnd_uVoi",
    "outputId": "44d5e1b7-a0a5-4e6d-fcb4-ac9487b99824"
   },
   "outputs": [
    {
     "name": "stderr",
     "output_type": "stream",
     "text": [
      "/Users/nimrarana/opt/anaconda3/lib/python3.8/site-packages/sklearn/utils/deprecation.py:87: FutureWarning: Function get_feature_names is deprecated; get_feature_names is deprecated in 1.0 and will be removed in 1.2. Please use get_feature_names_out instead.\n",
      "  warnings.warn(msg, category=FutureWarning)\n"
     ]
    }
   ],
   "source": [
    "# get total word count per word\n",
    "word_count = np.squeeze(np.asarray(word_count_matrix.sum(axis=0)))\n",
    "\n",
    "wc_df = pd.Series(word_count, index=vectorizer.get_feature_names())\n",
    "\n"
   ]
  },
  {
   "cell_type": "code",
   "execution_count": 19,
   "metadata": {
    "colab": {
     "base_uri": "https://localhost:8080/"
    },
    "id": "GY13Ny6suVoq",
    "outputId": "4e8b49f0-bfe9-436b-b73b-a803c7cf4997"
   },
   "outputs": [
    {
     "data": {
      "text/plain": [
       "<87638x37317 sparse matrix of type '<class 'numpy.float64'>'\n",
       "\twith 287478 stored elements in Compressed Sparse Row format>"
      ]
     },
     "execution_count": 19,
     "metadata": {},
     "output_type": "execute_result"
    }
   ],
   "source": [
    "# initialize TF-IDF counter\n",
    "tfidf = TfidfTransformer()\n",
    "\n",
    "# fit and transform to titles corpus\n",
    "word_term_frequency_matrix = tfidf.fit_transform(word_count_matrix)\n",
    "\n",
    "word_term_frequency_matrix"
   ]
  },
  {
   "cell_type": "code",
   "execution_count": 34,
   "metadata": {
    "id": "m3JdXbHSuVox"
   },
   "outputs": [],
   "source": [
    "from sklearn.cluster import AgglomerativeClustering\n",
    "from scipy.cluster.hierarchy import dendrogram"
   ]
  },
  {
   "cell_type": "code",
   "execution_count": 35,
   "metadata": {
    "id": "LjFoGeyjuVox"
   },
   "outputs": [],
   "source": [
    "def plot_dendrogram(model, **kwargs):\n",
    "    # Create linkage matrix and then plot the dendrogram\n",
    "\n",
    "    # create the counts of samples under each node\n",
    "    counts = np.zeros(model.children_.shape[0])\n",
    "    n_samples = len(model.labels_)\n",
    "    for i, merge in enumerate(model.children_):\n",
    "        current_count = 0\n",
    "        for child_idx in merge:\n",
    "            if child_idx < n_samples:\n",
    "                current_count += 1  # leaf node\n",
    "            else:\n",
    "                current_count += counts[child_idx - n_samples]\n",
    "        counts[i] = current_count\n",
    "\n",
    "    linkage_matrix = np.column_stack(\n",
    "        [model.children_, model.distances_, counts]\n",
    "    ).astype(float)\n",
    "\n",
    "    # Plot the corresponding dendrogram\n",
    "    dendrogram(linkage_matrix, **kwargs)"
   ]
  },
  {
   "cell_type": "code",
   "execution_count": 36,
   "metadata": {
    "colab": {
     "base_uri": "https://localhost:8080/"
    },
    "id": "rU5OO2tfuVox",
    "outputId": "4fe5ef93-3423-4ef3-8ee4-652df26aba71"
   },
   "outputs": [
    {
     "data": {
      "text/plain": [
       "array([595, 449, 489, 353, 419, 678, 465, 484, 603, 455, 352, 663, 165,\n",
       "       165, 365, 513, 575, 373, 350, 349, 348, 382, 431, 399, 347, 587,\n",
       "       346, 662, 345, 622, 398, 515,  67, 343, 627, 344, 586, 474, 509,\n",
       "       342, 434, 564, 364, 511, 341, 521, 442,  10, 504, 589, 393, 677,\n",
       "       563, 464,  17, 672,  41,  41, 671, 385, 669, 541, 607, 456, 429,\n",
       "        38,  38,  38, 374, 379,  26, 667, 665, 635, 574, 664, 661, 367,\n",
       "       460, 447, 625, 659, 432, 457, 361, 619, 401,  76,  76, 478,  65,\n",
       "       648, 409, 481,  58,  58, 463, 331, 546, 658, 655, 653, 538, 593,\n",
       "        65,  65,  65, 356,  65,  65,  65,  65,  65,  65,  65, 651, 358,\n",
       "       649, 400, 433,  32,  10, 654, 645, 558, 467, 234, 234,  57, 641,\n",
       "       537, 639, 354, 199, 522, 523, 461, 129, 129, 637, 129, 440, 492,\n",
       "       670, 458, 633, 430,  12, 403, 528, 351, 598, 216, 414,  10, 542,\n",
       "       638, 629, 140,  50,  50,  50,  32,  32, 491,  50,  50,  50,  50,\n",
       "        50,  32,  32,  50,  50,  50, 529, 527,  12,  97, 626,  83, 601,\n",
       "       585,  17,  10, 533, 446, 143, 143, 122,  85,  85, 122, 143, 499,\n",
       "       621,  81,  81,   8,  45, 652,  10,  45, 642,  10, 544,  19,  35,\n",
       "       588, 568, 502, 679,  10, 614, 270, 196, 628,  82, 453, 173, 422,\n",
       "        76, 613, 140, 339,   8,  22, 334, 466,  22, 617,  22, 609,  21,\n",
       "        21, 644, 605, 426, 408, 624, 425, 454,  82, 488,  76, 519,  82,\n",
       "       531, 606, 480, 604,  58,  58, 646, 559, 459, 611, 599, 196, 186,\n",
       "       196, 196, 196, 196, 196, 196, 196, 597, 675, 301, 579, 640, 392,\n",
       "        19, 501, 335, 498, 557, 194, 194, 194, 194, 194, 194, 490,  68,\n",
       "        30, 620, 596,  14, 441, 406, 594, 362, 144, 144, 479, 591, 524,\n",
       "       552,  30, 250, 517, 477, 516, 261, 507, 590, 293, 615, 610,  96,\n",
       "        19,  52, 676, 608,  52, 547, 505,  19,  19,  19,  19,  19,  19,\n",
       "        19, 387, 647,  19,  70, 194, 170,  70, 194,  12, 581, 194, 508,\n",
       "        11, 631,  48,  48,  48, 231, 503,  77, 194,  77, 616, 612, 450,\n",
       "        71, 104, 104, 340, 657,  71,  83, 497,  57,  57, 495, 462, 445,\n",
       "       253, 666, 476,  29,  29,  29,  29,  54,  54, 632, 485, 592, 583,\n",
       "       534, 569, 623, 539, 244, 510, 248, 389,  80, 566,  11, 673,  11,\n",
       "        11,  11,  11,  11,  11,  80, 483, 475, 486, 306,  25,  25, 319,\n",
       "       312, 660, 576, 381,  25, 363, 668, 506, 535, 567, 297, 212, 473,\n",
       "        25, 469, 470, 451, 298, 405, 565,  64, 634,  90,  90, 602, 543,\n",
       "        64, 287, 548, 471,  64, 292,  11,  11,  11, 309,  11,  11, 560,\n",
       "       252,  13, 202, 304, 487,  28, 140,  61, 580, 313,  11,  11,  11,\n",
       "        11,  11, 439,  39, 540,  11,  11,  11, 618,  56, 294,  56,  56,\n",
       "       402, 232, 338, 436, 224,  25,  36,  36, 227,  13, 514, 496,  96,\n",
       "       315, 239,  80,  93,  72, 283,  72, 452, 530, 209, 209,  69, 423,\n",
       "       448, 132,  69, 132, 222, 372, 300, 326, 359,  88, 435,  88,  35,\n",
       "       371, 219, 650, 437, 174, 140, 302,  23,  23, 438,  39,  14,  23,\n",
       "       571, 243, 424,  42, 320,  51,  51,  34,  59, 427,  97,  59, 417,\n",
       "       525,  25, 278, 211, 390, 266,  80, 220, 562, 420, 410, 413, 109,\n",
       "        40, 643, 380,  42, 428, 383, 370, 536,   4, 264, 200,  99, 146,\n",
       "        95, 415, 443, 204, 656, 215, 584, 150, 375,  95, 394,   4, 105,\n",
       "       377,  46,  46, 172, 316, 291, 418, 185, 188, 674, 295, 303, 396,\n",
       "       572, 188, 321, 213, 545, 630, 412, 329, 395, 180, 357, 269,  44,\n",
       "        44, 549,  35, 159, 281, 368, 175, 554, 512,  35,  35,  63,   2,\n",
       "        35,   9,  33, 520,   9, 330,  63, 176,  63,  63, 386,  63,  63,\n",
       "        63, 139,  63, 573,  63, 577,   2,  63,  33,   2,   2,   2,   2,\n",
       "         2,   2, 600,   2,   2,  67, 310, 305,   6,  34, 333, 336,  34,\n",
       "       166, 186,   6, 186, 550, 282,  28, 407, 472,  80,  28,  53,  20,\n",
       "        20, 274, 325, 482, 323, 578, 355, 369,  25,  25, 322, 225, 570,\n",
       "        27, 327, 328, 177, 139, 518, 553, 121, 267, 273, 217, 190, 299,\n",
       "       149,  86, 307, 384, 206,   3,   3, 251, 254, 284, 397, 636, 242,\n",
       "       286, 260, 555, 388, 337, 235, 551, 444,  16, 271,  55, 556,  16,\n",
       "       238,  93, 257, 221, 276, 378, 532, 526, 258, 288,  74, 324, 126,\n",
       "       131, 131, 145, 247, 141, 317,  92, 391, 223, 237,  15,  15, 285,\n",
       "       134, 376,  28,  80,  28,  80, 360, 157,  25, 151, 183, 179, 125,\n",
       "       500, 314, 228, 115, 116, 116, 116, 116, 256, 116, 116, 116, 116,\n",
       "       468, 226, 168,  25, 208,  28, 229,  26,  26, 416, 311, 192, 494,\n",
       "       218, 275,  53, 582,  78,  78,  78,  78,  78,  78,  78,  78, 207,\n",
       "         1, 195, 111, 404, 318,  55, 167,   7,   7,   7, 308, 279, 214,\n",
       "       128,  14, 233, 128, 187, 128, 128,  92,  18, 128, 128, 128, 128,\n",
       "       128, 163, 230, 272, 107,  43, 268,  89, 263, 201,  80, 366, 332,\n",
       "       164, 189, 123, 135,  78, 245, 136, 421,  80, 160, 154,  27, 171,\n",
       "        31,  47,  80, 156, 100,  47, 240, 411,  87,  31, 103, 181, 493,\n",
       "       142, 259, 152, 205, 277, 255, 110, 127, 296, 169, 153, 119, 182,\n",
       "       133,  78, 236,  18,  78,  78, 155, 113, 102,  78,  66, 193, 262,\n",
       "       210, 117, 184,   7,  18,  49, 116,   7, 265,  62, 241, 290,  27,\n",
       "        18, 112,  18,  43,  18,  84,  18, 249,  18,  18,  18,  18, 561,\n",
       "        18, 246,  98,   7,   7,   7,  98,   7, 147,  60, 124,   7,  98,\n",
       "         1,   0,   0,   0,  60,  60,   7, 138,   0,  68,  24,  61,  24,\n",
       "        28,   6,  68, 101,  27, 101,  27, 101,  27,  27,  27, 191,  27,\n",
       "        37, 106, 130, 198, 130, 101,  53,  27,   5, 108,   5,  27, 101,\n",
       "        27, 137, 101,  37,  27,  75, 158, 114,  94, 203, 148, 178, 162,\n",
       "       120,  73, 289,   5,  40, 289, 197,  80, 280, 289, 289,  79,  40,\n",
       "       161, 118,  91,  55,  55,  55,   5,  55,  55,  55,  55,  55])"
      ]
     },
     "execution_count": 36,
     "metadata": {},
     "output_type": "execute_result"
    }
   ],
   "source": [
    "ac = AgglomerativeClustering(n_clusters=680, linkage='complete', distance_threshold=None)\n",
    "ac.fit_predict(tf)"
   ]
  },
  {
   "cell_type": "markdown",
   "metadata": {
    "id": "4LWsOcM79Mob"
   },
   "source": [
    "### Comparing Results of Agglomerative clustering of nouns with previosly implemented model of making clusters using full titles (by Marina Fredmin)"
   ]
  },
  {
   "cell_type": "code",
   "execution_count": 37,
   "metadata": {
    "colab": {
     "base_uri": "https://localhost:8080/"
    },
    "id": "pDnfHBIx8uBN",
    "outputId": "a897870d-50bf-42e5-9ee1-da26dfff86a9"
   },
   "outputs": [
    {
     "name": "stdout",
     "output_type": "stream",
     "text": [
      "1000\n"
     ]
    }
   ],
   "source": [
    "# predicted values\n",
    "predicted_values = [595, 449, 489, 353, 419, 678, 465, 484, 603, 455, 352, 663, 325,\n",
    "       325, 345, 608, 575, 373, 350, 349, 351, 382, 431, 399, 347, 587,\n",
    "       346, 662, 172, 622, 398, 515, 128, 378, 627, 344, 586, 444, 509,\n",
    "       343, 434, 564, 364, 537, 342, 360, 667,  22, 504, 589, 428, 677,\n",
    "       563, 570,  35, 672,  86,  86, 671, 385, 669, 541, 607, 456, 429,\n",
    "       148, 148, 148, 551, 379,  27, 533, 665, 635, 574, 664, 661, 367,\n",
    "       460, 447, 625, 659, 432, 457, 361, 623, 401,  87,  87, 478,  91,\n",
    "       648, 409, 481,  13,  13, 463, 331, 546, 658, 655, 340, 538, 593,\n",
    "        91,  91,  91, 356,  91,  91,  91,  91,  91,  91,  91, 410, 358,\n",
    "       649, 459, 407,  32,  22, 654, 645, 558, 458,  52,  52,  10, 641,\n",
    "       268, 639, 354, 400, 522, 523, 461,  49,  49, 637,  49, 440, 486,\n",
    "       640, 477, 633, 430,   6, 403, 528, 471, 598, 433, 414,  22, 629,\n",
    "       638, 628,  37, 102, 102, 102,  32,  32, 626, 102, 102, 102, 102,\n",
    "       102,  32,  32, 102, 102, 102, 576, 527,   6, 195, 653,  41, 601,\n",
    "       511,  35,  22, 599, 446, 290, 290, 226,  83,  83, 226, 290, 611,\n",
    "       613, 162, 162,  17,  45, 652,  22,  45, 642,  22, 544,  97,  72,\n",
    "       588, 557, 502, 341,  22, 614, 542, 196, 313,  40, 464, 466, 422,\n",
    "        87, 605,  37, 679,  17,  46, 670, 232,  46, 617,  46, 539,  14,\n",
    "        14, 644, 606, 426, 408, 624, 417, 454,  40, 488,  87, 519,  40,\n",
    "       597, 596, 480, 594,  13,  13, 646, 559, 591, 612, 535, 196, 186,\n",
    "       196, 196, 196, 196, 196, 196, 196, 590, 675, 604, 579, 319, 392,\n",
    "        97, 473, 335, 498, 270, 107, 107, 107, 107, 107, 107, 470,  55,\n",
    "       210, 620, 293,  30, 441, 406, 585, 362,  31,  31, 479, 592, 673,\n",
    "       552, 210, 618, 521, 630, 581, 524, 516, 580, 577, 363, 609, 390,\n",
    "        97, 197, 334, 482, 197, 547, 228,  97,  97,  97,  97,  97,  97,\n",
    "        97, 387, 647,  97,  70, 107, 573,  70, 107,   6, 619, 107, 508,\n",
    "        48, 305,  98,  98,  98, 491, 569, 187, 107, 187, 615, 536, 231,\n",
    "        80, 194, 194, 357, 657,  80,  41, 505,  10,  10, 565, 448, 445,\n",
    "       507, 666, 476,  62,  62,  62,  62,  54,  54, 631, 485, 332, 583,\n",
    "       534, 371, 311, 540, 499, 510, 497, 389,  28, 566,  48, 668,  48,\n",
    "        48,  48,  48,  48,  48,  28, 495, 475, 561, 306,  25,  25, 171,\n",
    "       312, 660, 560, 438,  25, 355, 676, 506, 267, 567, 380, 425, 242,\n",
    "        25, 483, 469, 451, 297, 405, 282,  79, 634,  43,  43, 263, 543,\n",
    "        79, 287, 548, 239,  79, 292,  48,  48,  48, 309,  48,  48, 279,\n",
    "       252,   5, 616, 610, 237,   3,  37, 146, 328, 636,  48,  48,  48,\n",
    "        48,  48, 439,  50, 269,  48,  48,  48, 462,  61, 301,  61,  61,\n",
    "       402, 241, 338, 436, 450,  25,  73,  73, 227,   5, 514, 496, 390,\n",
    "       632, 490,  28, 188,  36, 155,  36, 452, 529,  53,  53, 104, 423,\n",
    "       568, 132, 104, 132, 443, 372, 602, 326, 359,  18, 435,  18,  72,\n",
    "       185, 437, 650, 217, 366,  37, 302,  12,  12, 215,  50,  30,  12,\n",
    "       555, 487, 424,  65, 320,  51,  51,  19, 112, 427, 195, 112, 415,\n",
    "       525,  25, 170, 211, 244, 266,  28, 222, 562, 553, 442, 420, 545,\n",
    "        71, 323, 275,  65, 395, 388, 134, 133,  23, 530, 203, 202, 643,\n",
    "        96, 264, 221, 223, 656, 229, 212, 397, 339,  96, 394,  23, 526,\n",
    "       386,  94,  94, 674, 571, 314, 418, 377,  75, 336,  85, 303, 550,\n",
    "       572,  75, 220, 391, 272, 156, 200, 329, 234, 365, 181, 300,  44,\n",
    "        44,  66,  72, 159, 178, 368, 549, 554, 512,  72,  72,  63,   2,\n",
    "        72,  21,  39, 520,  21, 376,  63, 259,  63,  63, 192,  63,  63,\n",
    "        63,  64,  63, 286,  63, 150,   2,  63,  39,   2,   2,   2,   2,\n",
    "         2,   2, 316,   2,   2, 128, 621, 532,   4,  19, 333, 513,  19,\n",
    "       166, 186,   4, 186, 255, 600,   3, 383, 295,  28,   3,  26,   9,\n",
    "         9, 274, 330, 240, 327, 315, 177, 369,  25,  25, 321, 225, 284,\n",
    "        29, 163, 348, 157,  64, 518, 317, 492, 283, 218, 214, 310, 299,\n",
    "       149, 298, 169, 384, 413,   7,   7, 253, 501, 289, 198, 318, 494,\n",
    "       281, 260, 556, 404,  84, 472, 278, 273,  16, 280,  59, 517,  16,\n",
    "       238, 188, 257, 209, 276, 396, 531, 131, 261, 578, 370, 468, 474,\n",
    "        42,  42, 584, 503, 262, 256,  92, 285, 324, 243,  93,  93, 142,\n",
    "       180, 337,   3,  28,   3,  28, 184, 191,  25, 154, 493, 179, 251,\n",
    "       500,  77, 467, 115,  56,  56,  56,  56, 288,  56,  56,  56,  56,\n",
    "       233, 219, 168,  25, 208,   3, 213,  27,  27, 416, 121, 216, 236,\n",
    "       199, 277,  26, 582,  38,  38,  38,  38,  38,  38,  38,  38, 105,\n",
    "         1, 127, 246, 411, 291,  59, 375,  15,  15,  15, 307, 294, 245,\n",
    "        82,  30, 193,  82, 189,  82,  82,  92,  20,  82,  82,  82,  82,\n",
    "        82, 165, 230, 271, 118,   8, 129, 176, 136, 201,  28, 182, 158,\n",
    "       164, 174, 247, 140,  38, 122, 254, 421,  28, 322, 141,  29, 167,\n",
    "        33,  47,  28, 224, 304,  47, 206, 412, 137,  33, 135,  90, 173,\n",
    "       143, 249, 145, 139,  67, 100, 235, 381, 151, 175, 308, 248, 374,\n",
    "       153,  38, 117,  20,  38,  38, 204, 113, 205,  38,  58, 110, 130,\n",
    "       106, 126,  81,  15,  20, 123,  56,  15, 265, 250, 116, 119,  29,\n",
    "        20, 453,  20,   8,  20, 258,  20, 125,  20,  20,  20,  20, 183,\n",
    "        20,  60, 393,  15,  15,  15, 393,  15, 296, 114, 124,  15, 393,\n",
    "         1,   0,   0,   0, 114, 114,  15, 138,   0,  55,  24, 146,  24,\n",
    "         3,   4,  55,  99,  29,  99,  29,  99,  29,  29,  29,  57,  29,\n",
    "        76, 109,  34, 207,  34,  99,  26,  29,  11, 108,  11,  29,  99,\n",
    "        29,  68,  99,  76,  29, 152,  78, 111, 190, 103, 101,  88, 651,\n",
    "       120, 147, 144,  11,  71, 144,  74,  28,  69, 144, 144, 160,  71,\n",
    "       161,  95,  89,  59,  59,  59,  11,  59,  59,  59,  59,  59]\n",
    "print(len(predicted_values))"
   ]
  },
  {
   "cell_type": "code",
   "execution_count": 38,
   "metadata": {
    "colab": {
     "base_uri": "https://localhost:8080/"
    },
    "id": "N1OG-5o8A0jw",
    "outputId": "a395ff72-f11a-4062-c30c-437b18d73466"
   },
   "outputs": [
    {
     "name": "stdout",
     "output_type": "stream",
     "text": [
      "1000\n"
     ]
    }
   ],
   "source": [
    "#setting cluster numbers got from applying agglomerqative clustering of complete titles (Model of Marina Fredmin)\n",
    "#ground truth\n",
    "target_variables = [598, 431, 538, 509, 384,   2, 424, 511, 579, 454, 605,  16,  79,\n",
    "        79, 359, 668, 644, 355, 507, 542, 603, 655, 667, 420, 389, 576,\n",
    "       607,  12, 508, 647, 372, 540,  56, 577, 666, 610, 616, 423, 553,\n",
    "       601, 440, 593, 356, 526, 435, 344, 448,  22, 434, 580, 613, 659,\n",
    "       467,  12,   4,   4,  80,  80, 527, 364, 562, 645, 346, 375, 473,\n",
    "        58,  58,  58, 646, 615, 660, 369, 513,  24, 572, 583, 522, 530,\n",
    "       410, 459, 594, 661, 475, 617, 381, 602, 366,  18,  18, 465, 117, \n",
    "       656, 406, 642,  14,  14, 470,  29, 461, 536, 581, 289, 651, 622,\n",
    "       117, 117, 117, 380, 117, 117, 117, 117, 117, 117, 117, 477, 447,\n",
    "       604, 438, 611,  47, 614, 648, 550, 551, 595,  60,  60,  24, 350,\n",
    "       582, 573, 352, 253, 469, 499, 528, 168, 168, 600, 168, 596, 383,\n",
    "       635,  29, 589, 404, 678, 631, 574, 591, 560, 485, 484,  24, 563,\n",
    "       629, 637, 135,  62,  62,  62,  47,  47, 263,  62,  62,  62,  62,\n",
    "        62,  47,  47,  62,  62,  62, 234, 427, 658, 231, 673, 114, 531,\n",
    "       494,   4,  24, 468, 399,  36,  36,  54, 125, 125,  54,  36, 561,\n",
    "       466,  69,  69,  27,  63, 662,  24,  63, 649,  24, 592,  82,  19,\n",
    "       630, 497, 545, 397,  24, 458, 418, 102, 612,   6, 663, 590, 362,\n",
    "        18, 361, 135, 555,  27,  23,  18, 523,  23, 377,  23, 552,   1,\n",
    "         1, 599, 539, 546, 433, 643, 618, 360,   6, 474,  18, 535,   6,\n",
    "       556, 510, 515, 414,  14,  14,   2, 478, 547,  30, 619, 102, 107,\n",
    "       102, 102, 102, 102, 102, 102, 102, 417, 634, 327, 432, 674, 409,\n",
    "       679, 623,  11, 653,  11,   7,   7,   7,   7,   7,   7, 490, 106,\n",
    "       181, 625, 543,  72, 537, 351, 457, 339,  45,  45, 403, 488, 569,\n",
    "       518, 181, 585, 393, 208, 368, 584, 373, 442, 608, 426, 400,  91,\n",
    "        82, 123, 268, 358, 123, 348, 450,  82,  82,  82,  82,  82,  82,\n",
    "        82, 345, 640,  82, 207,   7, 501, 207,   7,  30, 532,   7, 272,\n",
    "        57, 578,  95,  95,  95, 425, 199, 157,   7, 157, 628, 476, 322,\n",
    "       140,  83,  83, 349,   7, 140, 114, 449, 544,  22, 301, 374, 652,\n",
    "       571, 654, 487,  26,  26,  26,  26,  96,  96, 670, 606, 303, 493,\n",
    "       524, 386, 302, 505, 521, 460, 586, 387, 529, 343,  57, 401,  57,\n",
    "        57,  57,  57,  57,  57, 305, 621, 514, 395, 329,  25,  25, 439,\n",
    "       627, 295, 456, 657,  25, 565, 677, 624, 564, 342, 502, 472, 419,\n",
    "        25, 328, 486, 211, 382, 402, 275, 156, 326,  52,  52, 378, 665,\n",
    "       156, 390, 246, 232, 156, 291,  57,  57,  57, 597,  57,  57, 534,\n",
    "       557, 446, 407, 541, 330,   8, 135, 293, 341, 405,  57,  57,  57,\n",
    "        57,  57, 270,  42, 570,  57,  57,  57, 558, 176, 297, 176, 176,\n",
    "       228, 489,  13, 421, 559,  25, 146, 146, 388, 506, 554, 483,  91,\n",
    "       209, 428, 398,  61,  51, 376,  51, 481, 492,  59,  59,  44, 323,\n",
    "       254, 139,  44, 139, 437, 549, 288, 242, 170,  71, 213,  71,  19,\n",
    "       321, 429, 626, 396, 371, 135, 392,  37,  37, 379,  42,  72,  37,\n",
    "       236, 274, 223,   6, 311,  48,  48,  90,  43, 503, 231,  43, 385,\n",
    "       525,  25, 353, 250, 216, 639, 609, 444, 632, 500, 548, 306, 186,\n",
    "        88, 204, 340,   6, 290, 292, 675, 430,  32, 498, 363, 408, 248,\n",
    "        99, 332, 394, 264,  10, 194, 179, 265,  10,  99, 193,  32, 567,\n",
    "       504,  20,  20, 416, 347, 307, 436, 482,  81, 676, 325, 495, 267,\n",
    "       391,  81, 453, 462, 411,   5, 188, 669, 354, 271, 533, 451,  86,\n",
    "        86, 286,  19, 520, 191, 664, 126, 566, 200,  19,  19, 175,  49,\n",
    "        19,   9,  46, 308,   9, 266, 175, 294, 175, 175, 365, 175, 175,\n",
    "       175,  97, 175, 163, 175, 152,  49, 175,  46,  49,  49,  49,  49,\n",
    "        49,  49, 285,  49,  49,  56, 650, 189,   0,  90,  15,   5,  90,\n",
    "       319, 107,   0, 107, 180,  15,   8, 224, 212, 296,   8,  40,   3,\n",
    "         3, 249, 422, 452, 262, 217, 313, 671,  25,  25, 443, 480, 150,\n",
    "        31,  17, 575, 276,  97, 331, 226, 197, 182, 314, 672, 173, 310,\n",
    "       636, 273, 317, 641, 172,  16,  16, 160, 142, 568, 261, 221, 519,\n",
    "       201, 237, 471, 190, 633, 131, 144, 259,  33, 132,  38, 169,  33,\n",
    "       455,  61, 111,  17, 283, 298, 620, 491, 415, 284, 219, 241, 203,\n",
    "        78,  78, 320, 120, 357, 334, 143, 587, 517, 269, 115, 115, 370,\n",
    "       337, 312,   8, 104,   8, 104, 280, 278,  25, 137, 229, 463, 162,\n",
    "       260, 309, 235, 202, 129, 129, 129, 129, 238, 129, 129, 129, 129,\n",
    "       282, 413, 335,  25, 304,   8,  84,  87,  87, 195, 516, 185, 279,\n",
    "       324, 333,  40, 154, 316, 316, 316, 316, 316, 316, 316, 316, 198,\n",
    "        21, 277, 187, 287, 206,  38,  94,  41,  41,  41, 225, 315, 445,\n",
    "       183,  72, 256, 183,  92, 183, 183, 143,  76, 183, 183, 183, 183,\n",
    "       183, 588, 233, 244, 171,  77, 148,  98, 251, 101, 638, 230, 512,\n",
    "       336, 218, 147, 138, 316, 479, 222,  65,  35, 210, 159,  31,  85,\n",
    "       103,  53,  35, 299, 110,  53, 258, 227, 281, 103, 239, 151, 141,\n",
    "       255,  73, 113, 116, 100, 134, 243, 165, 133, 127, 178, 464, 121,\n",
    "       108, 316, 496,  76, 316, 316, 118, 245, 174, 316, 164, 240, 257,\n",
    "       441, 215, 130,  13,  76,  93, 129,  41, 177, 184, 300, 338,  31,\n",
    "        76, 128,  76,  77,  76,  68,  76,  89,  76,  76,  76,  76, 214,\n",
    "        76, 161,  64,  41,  41,  41,  64,  41, 155, 166, 112,  41,  64,\n",
    "        21,  28,  28,  28, 166, 166,  41, 105,  28, 106,  50, 293,  50,\n",
    "         8,   0, 106,  34,  31,  34,  31,  34,  31,  31,  31, 167,  31,\n",
    "        39, 220, 192, 124, 192,  34,  40,  31,  67, 145,  67,  31,  34,\n",
    "        31, 119,  34,  39,  31, 153, 318, 122, 136, 252, 412, 149,  74,\n",
    "        55, 196,  70,  67,  88,  70, 367, 109, 247,  70,  70, 158,  88,\n",
    "        75, 205,  66,  38,  38,  38,  67,  38,  38,  38,  38,  38]\n",
    "\n",
    "print(len(target_variables))"
   ]
  },
  {
   "cell_type": "code",
   "execution_count": 39,
   "metadata": {
    "colab": {
     "base_uri": "https://localhost:8080/"
    },
    "id": "6-gwfdIyBTTP",
    "outputId": "31bd97b2-ded7-4847-a959-77fc78f58281"
   },
   "outputs": [
    {
     "data": {
      "text/plain": [
       "0.9450273983309313"
      ]
     },
     "execution_count": 39,
     "metadata": {},
     "output_type": "execute_result"
    }
   ],
   "source": [
    "#calculating Fowlkes_mallows_score\n",
    "from sklearn.metrics.cluster import fowlkes_mallows_score\n",
    "fowlkes_mallows_score(predicted_values, target_variables)"
   ]
  },
  {
   "cell_type": "code",
   "execution_count": 40,
   "metadata": {
    "colab": {
     "base_uri": "https://localhost:8080/"
    },
    "id": "q2bO7DBY12iK",
    "outputId": "c0be7833-c667-4bc0-851f-8fb7329f02cb"
   },
   "outputs": [
    {
     "data": {
      "text/plain": [
       "0.36457631060251106"
      ]
     },
     "execution_count": 40,
     "metadata": {},
     "output_type": "execute_result"
    }
   ],
   "source": [
    "# calculating silhoute score to evaluate coherrence of clusters\n",
    "from sklearn.metrics import silhouette_score\n",
    "silhouette_score(tf,labels=ac.fit_predict(tf))"
   ]
  },
  {
   "cell_type": "markdown",
   "metadata": {
    "colab": {
     "base_uri": "https://localhost:8080/",
     "height": 597
    },
    "id": "rIr0QsDyA3yb",
    "outputId": "31e7af98-232e-44a7-8d64-397b6dce9700"
   },
   "source": [
    "plt.scatter(predicted_values, target_variables,\"o\")\n",
    "plt.show()"
   ]
  },
  {
   "cell_type": "code",
   "execution_count": 44,
   "metadata": {
    "colab": {
     "base_uri": "https://localhost:8080/",
     "height": 301
    },
    "id": "PVOq4GdaCT-_",
    "outputId": "2ee750aa-e38b-4609-a1e5-3c00cbc288b9"
   },
   "outputs": [
    {
     "name": "stdout",
     "output_type": "stream",
     "text": [
      "plt.scatter() 9.219899209000005\n",
      "plt.plot() 0.6322819060000029\n"
     ]
    },
    {
     "data": {
      "image/png": "[encoded data removed]",
      "text/plain": [
       "<Figure size 432x288 with 1 Axes>"
      ]
     },
     "metadata": {
      "needs_background": "light"
     },
     "output_type": "display_data"
    }
   ],
   "source": [
    "import timeit\n",
    "import matplotlib.pyplot as plt\n",
    "\n",
    "\n",
    "\n",
    "print(\n",
    "    \"plt.scatter()\",\n",
    "    timeit.timeit(\n",
    "        \"plt.scatter(predicted_values, target_variables)\",\n",
    "        number=1000,\n",
    "        globals=globals(),\n",
    "    ),\n",
    ")\n",
    "print(\n",
    "    \"plt.plot()\",\n",
    "    timeit.timeit(\n",
    "        \"plt.plot(predicted_values, predicted_values, 'o',marker='d')\",\n",
    "        number=1000,\n",
    "        globals=globals(),\n",
    "    ),\n",
    ")"
   ]
  },
  {
   "cell_type": "code",
   "execution_count": null,
   "metadata": {
    "id": "rqeymC1DuVo8"
   },
   "outputs": [],
   "source": []
  }
 ],
 "metadata": {
  "colab": {
   "name": "Similarity with 1000 articles (1).ipynb",
   "provenance": []
  },
  "kernelspec": {
   "display_name": "Python 3",
   "language": "python",
   "name": "python3"
  },
  "language_info": {
   "codemirror_mode": {
    "name": "ipython",
    "version": 3
   },
   "file_extension": ".py",
   "mimetype": "text/x-python",
   "name": "python",
   "nbconvert_exporter": "python",
   "pygments_lexer": "ipython3",
   "version": "3.8.5"
  }
 },
 "nbformat": 4,
 "nbformat_minor": 1
}
